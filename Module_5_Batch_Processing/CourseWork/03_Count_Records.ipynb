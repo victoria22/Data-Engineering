{
 "cells": [
  {
   "cell_type": "code",
   "execution_count": null,
   "id": "2692e15f-0173-41c8-a2d8-610bfd7df3e0",
   "metadata": {},
   "outputs": [],
   "source": [
    "import pyspark\n",
    "from pyspark.sql import SparkSession"
   ]
  },
  {
   "cell_type": "code",
   "execution_count": null,
   "id": "6b520c90-6ac9-48bd-b01d-6fd469eb7132",
   "metadata": {},
   "outputs": [],
   "source": [
    "spark = SparkSession.builder \\\n",
    "    .master(\"local[*]\") \\\n",
    "    .appName('test') \\\n",
    "    .getOrCreate()"
   ]
  },
  {
   "cell_type": "code",
   "execution_count": null,
   "id": "cc2286ed-b6d4-4586-afa9-abfeef749ae9",
   "metadata": {},
   "outputs": [],
   "source": [
    "# How many taxi trips were there on the 15th of October?\n",
    "\n",
    "df_yellow = spark.read.parquet('data/pq/yellow_tripdata_2024-10/')"
   ]
  },
  {
   "cell_type": "code",
   "execution_count": null,
   "id": "68653ba8-e85c-4780-b13b-160eddfd9ec5",
   "metadata": {},
   "outputs": [],
   "source": [
    "from pyspark.sql.functions import col, to_date"
   ]
  },
  {
   "cell_type": "code",
   "execution_count": null,
   "id": "1d8d0599-fca5-4f5e-9ec7-c6d533f01e2a",
   "metadata": {},
   "outputs": [],
   "source": [
    "# Convert pickup datetime column to date format and filter for October 15, 2024\n",
    "trips_on_oct_15 = df_yellow.filter(to_date(col(\"tpep_pickup_datetime\")) == \"2024-10-15\")\n"
   ]
  },
  {
   "cell_type": "code",
   "execution_count": null,
   "id": "a7963b83-877d-4990-a728-d6d5beee2104",
   "metadata": {},
   "outputs": [],
   "source": [
    "# Count the number of trips\n",
    "trips_count = trips_on_oct_15.count()"
   ]
  },
  {
   "cell_type": "code",
   "execution_count": null,
   "id": "20182475-2c44-46da-9585-9e4ff5e3a9bc",
   "metadata": {},
   "outputs": [],
   "source": [
    "# Print the result\n",
    "print(f\"Number of trips on 15th October: {trips_count}\")"
   ]
  },
  {
   "cell_type": "code",
   "execution_count": null,
   "id": "fd14d29e-6b85-4364-b7ae-76d90bd68009",
   "metadata": {},
   "outputs": [],
   "source": []
  }
 ],
 "metadata": {
  "kernelspec": {
   "display_name": "Python (spark_env)",
   "language": "python",
   "name": "spark_env"
  },
  "language_info": {
   "codemirror_mode": {
    "name": "ipython",
    "version": 3
   },
   "file_extension": ".py",
   "mimetype": "text/x-python",
   "name": "python",
   "nbconvert_exporter": "python",
   "pygments_lexer": "ipython3",
   "version": "3.9.21"
  }
 },
 "nbformat": 4,
 "nbformat_minor": 5
}
