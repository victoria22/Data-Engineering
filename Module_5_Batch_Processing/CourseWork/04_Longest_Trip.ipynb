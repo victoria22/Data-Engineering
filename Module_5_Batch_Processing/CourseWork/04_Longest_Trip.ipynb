{
 "cells": [
  {
   "cell_type": "code",
   "execution_count": null,
   "id": "019bcb06-d1ba-40ff-8a16-162afd3ec261",
   "metadata": {},
   "outputs": [],
   "source": [
    "import pyspark\n",
    "from pyspark.sql import SparkSession"
   ]
  },
  {
   "cell_type": "code",
   "execution_count": null,
   "id": "b6e69950-751f-44b5-bcc5-6b887093e1ac",
   "metadata": {},
   "outputs": [],
   "source": [
    "spark = SparkSession.builder \\\n",
    "    .master(\"local[*]\") \\\n",
    "    .appName('test') \\\n",
    "    .getOrCreate()"
   ]
  },
  {
   "cell_type": "code",
   "execution_count": null,
   "id": "1840a5ca-2571-40a0-8ca8-403c6a2398be",
   "metadata": {},
   "outputs": [],
   "source": [
    "df = spark.read.parquet('data/pq/yellow_tripdata_2024-10/')"
   ]
  },
  {
   "cell_type": "code",
   "execution_count": null,
   "id": "846bbe82-3b97-4237-b1b5-a416d5e1cbd0",
   "metadata": {},
   "outputs": [],
   "source": [
    "from pyspark.sql import functions as F"
   ]
  },
  {
   "cell_type": "code",
   "execution_count": null,
   "id": "5cedb6cb-4d58-426b-95d9-5178a4db42c6",
   "metadata": {},
   "outputs": [],
   "source": [
    "# Calculate trip duration in hours by subtracting the pickup and dropoff timestamps\n",
    "# Convert the timestamps to seconds by casting to long\n",
    "df = df.withColumn(\"trip_duration_sec\", \n",
    "                   (F.col(\"tpep_dropoff_datetime\").cast(\"long\") - F.col(\"tpep_pickup_datetime\").cast(\"long\")))\n"
   ]
  },
  {
   "cell_type": "code",
   "execution_count": null,
   "id": "955cfb5a-cdc1-40b2-852e-135649eb8b9a",
   "metadata": {},
   "outputs": [],
   "source": [
    "# Convert duration from seconds to hours\n",
    "df = df.withColumn(\"trip_duration_hours\", F.col(\"trip_duration_sec\") / 3600)\n"
   ]
  },
  {
   "cell_type": "code",
   "execution_count": null,
   "id": "eb848218-3641-4caa-b46f-b61a4bf22e7c",
   "metadata": {},
   "outputs": [],
   "source": [
    "# Find the longest trip duration in hours\n",
    "longest_trip = df.agg(F.max(\"trip_duration_hours\").alias(\"max_trip_duration_hours\")).collect()\n"
   ]
  },
  {
   "cell_type": "code",
   "execution_count": null,
   "id": "127d0c85-09a5-4511-a6c9-daf14f102653",
   "metadata": {},
   "outputs": [],
   "source": [
    "# Extract and print the result\n",
    "longest_trip_duration = longest_trip[0][\"max_trip_duration_hours\"]\n",
    "print(f\"The longest trip duration in hours is: {longest_trip_duration:.2f} hours\")"
   ]
  },
  {
   "cell_type": "code",
   "execution_count": null,
   "id": "a7507541-07d9-4028-8077-603ea10bfd66",
   "metadata": {},
   "outputs": [],
   "source": []
  }
 ],
 "metadata": {
  "kernelspec": {
   "display_name": "Python (spark_env)",
   "language": "python",
   "name": "spark_env"
  },
  "language_info": {
   "codemirror_mode": {
    "name": "ipython",
    "version": 3
   },
   "file_extension": ".py",
   "mimetype": "text/x-python",
   "name": "python",
   "nbconvert_exporter": "python",
   "pygments_lexer": "ipython3",
   "version": "3.9.21"
  }
 },
 "nbformat": 4,
 "nbformat_minor": 5
}
